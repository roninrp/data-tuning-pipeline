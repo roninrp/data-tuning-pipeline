{
 "cells": [
  {
   "attachments": {},
   "cell_type": "markdown",
   "metadata": {},
   "source": [
    "## Imports"
   ]
  },
  {
   "cell_type": "code",
   "execution_count": 5,
   "metadata": {
    "execution": {
     "iopub.execute_input": "2025-08-06T16:28:39.629919Z",
     "iopub.status.busy": "2025-08-06T16:28:39.629074Z",
     "iopub.status.idle": "2025-08-06T16:28:41.408164Z",
     "shell.execute_reply": "2025-08-06T16:28:41.405730Z",
     "shell.execute_reply.started": "2025-08-06T16:28:39.629851Z"
    }
   },
   "outputs": [],
   "source": [
    "import pandas as pd\n",
    "import numpy as np\n",
    "from scipy import stats\n",
    "\n",
    "import matplotlib.pyplot as plt\n",
    "import seaborn as sns\n",
    "# Checking whether a numerical feature has a normal distribution or not\n",
    "from statsmodels.graphics.gofplots import qqplot\n",
    "from sklearn.model_selection import cross_validate, learning_curve, train_test_split, cross_val_score, cross_val_predict, GridSearchCV, RandomizedSearchCV\n",
    "from sklearn.linear_model import LogisticRegression, LinearRegression, SGDRegressor,SGDClassifier,SGDOneClassSVM\n",
    "from sklearn.preprocessing import PolynomialFeatures, MinMaxScaler, RobustScaler, OrdinalEncoder, OneHotEncoder, StandardScaler, LabelEncoder, KBinsDiscretizer\n",
    "from sklearn.metrics import mean_squared_error, accuracy_score, precision_score, recall_score, f1_score, get_scorer_names, classification_report\n",
    "from sklearn.impute import SimpleImputer, KNNImputer\n",
    "from sklearn.inspection import permutation_importance\n",
    "from sklearn.neighbors import KNeighborsRegressor, KNeighborsClassifier\n",
    "from sklearn.metrics import confusion_matrix, ConfusionMatrixDisplay, precision_recall_curve\n",
    "from sklearn.pipeline import Pipeline, FeatureUnion\n",
    "from sklearn.preprocessing import FunctionTransformer\n",
    "from sklearn.compose import ColumnTransformer, make_column_selector"
   ]
  },
  {
   "cell_type": "code",
   "execution_count": 1,
   "metadata": {
    "execution": {
     "iopub.execute_input": "2025-08-06T16:26:23.383734Z",
     "iopub.status.busy": "2025-08-06T16:26:23.383204Z",
     "iopub.status.idle": "2025-08-06T16:26:26.299338Z",
     "shell.execute_reply": "2025-08-06T16:26:26.297617Z",
     "shell.execute_reply.started": "2025-08-06T16:26:23.383685Z"
    }
   },
   "outputs": [],
   "source": [
    "import pandas as pd\n",
    "\n",
    "from scipy.stats import uniform\n",
    "\n",
    "from sklearn import set_config; set_config(display='diagram')\n",
    "\n",
    "from sklearn.impute import SimpleImputer\n",
    "from sklearn.model_selection import RandomizedSearchCV, cross_val_score\n",
    "from sklearn.pipeline import Pipeline\n",
    "from sklearn.preprocessing import MinMaxScaler\n",
    "from sklearn.svm import SVC"
   ]
  },
  {
   "cell_type": "markdown",
   "metadata": {},
   "source": [
    "# Tuning Pipeline"
   ]
  },
  {
   "cell_type": "markdown",
   "metadata": {},
   "source": [
    "👇 Consider the following dataset."
   ]
  },
  {
   "cell_type": "code",
   "execution_count": 2,
   "metadata": {
    "execution": {
     "iopub.execute_input": "2025-08-06T16:26:26.303063Z",
     "iopub.status.busy": "2025-08-06T16:26:26.302270Z",
     "iopub.status.idle": "2025-08-06T16:26:26.800944Z",
     "shell.execute_reply": "2025-08-06T16:26:26.798604Z",
     "shell.execute_reply.started": "2025-08-06T16:26:26.302998Z"
    }
   },
   "outputs": [
    {
     "data": {
      "text/html": [
       "<div>\n",
       "<style scoped>\n",
       "    .dataframe tbody tr th:only-of-type {\n",
       "        vertical-align: middle;\n",
       "    }\n",
       "\n",
       "    .dataframe tbody tr th {\n",
       "        vertical-align: top;\n",
       "    }\n",
       "\n",
       "    .dataframe thead th {\n",
       "        text-align: right;\n",
       "    }\n",
       "</style>\n",
       "<table border=\"1\" class=\"dataframe\">\n",
       "  <thead>\n",
       "    <tr style=\"text-align: right;\">\n",
       "      <th></th>\n",
       "      <th>games played</th>\n",
       "      <th>minutes played</th>\n",
       "      <th>points per game</th>\n",
       "      <th>field goals made</th>\n",
       "      <th>field goal attempts</th>\n",
       "      <th>field goal percent</th>\n",
       "      <th>3 point made</th>\n",
       "      <th>3 point attempt</th>\n",
       "      <th>3 point %</th>\n",
       "      <th>free throw made</th>\n",
       "      <th>free throw attempts</th>\n",
       "      <th>free throw %</th>\n",
       "      <th>offensive rebounds</th>\n",
       "      <th>defensive rebounds</th>\n",
       "      <th>rebounds</th>\n",
       "      <th>assists</th>\n",
       "      <th>steals</th>\n",
       "      <th>blocks</th>\n",
       "      <th>turnovers</th>\n",
       "      <th>target_5y</th>\n",
       "    </tr>\n",
       "  </thead>\n",
       "  <tbody>\n",
       "    <tr>\n",
       "      <th>0</th>\n",
       "      <td>36.0</td>\n",
       "      <td>27.4</td>\n",
       "      <td>7.4</td>\n",
       "      <td>2.6</td>\n",
       "      <td>7.6</td>\n",
       "      <td>NaN</td>\n",
       "      <td>0.5</td>\n",
       "      <td>2.1</td>\n",
       "      <td>25.0</td>\n",
       "      <td>1.6</td>\n",
       "      <td>2.3</td>\n",
       "      <td>69.9</td>\n",
       "      <td>0.7</td>\n",
       "      <td>3.4</td>\n",
       "      <td>4.1</td>\n",
       "      <td>1.9</td>\n",
       "      <td>0.4</td>\n",
       "      <td>0.4</td>\n",
       "      <td>1.3</td>\n",
       "      <td>0</td>\n",
       "    </tr>\n",
       "    <tr>\n",
       "      <th>1</th>\n",
       "      <td>35.0</td>\n",
       "      <td>26.9</td>\n",
       "      <td>NaN</td>\n",
       "      <td>2.0</td>\n",
       "      <td>6.7</td>\n",
       "      <td>29.6</td>\n",
       "      <td>0.7</td>\n",
       "      <td>2.8</td>\n",
       "      <td>23.5</td>\n",
       "      <td>2.6</td>\n",
       "      <td>3.4</td>\n",
       "      <td>76.5</td>\n",
       "      <td>0.5</td>\n",
       "      <td>2.0</td>\n",
       "      <td>2.4</td>\n",
       "      <td>3.7</td>\n",
       "      <td>1.1</td>\n",
       "      <td>0.5</td>\n",
       "      <td>1.6</td>\n",
       "      <td>0</td>\n",
       "    </tr>\n",
       "    <tr>\n",
       "      <th>2</th>\n",
       "      <td>NaN</td>\n",
       "      <td>15.3</td>\n",
       "      <td>5.2</td>\n",
       "      <td>2.0</td>\n",
       "      <td>4.7</td>\n",
       "      <td>42.2</td>\n",
       "      <td>0.4</td>\n",
       "      <td>1.7</td>\n",
       "      <td>24.4</td>\n",
       "      <td>0.9</td>\n",
       "      <td>1.3</td>\n",
       "      <td>67.0</td>\n",
       "      <td>0.5</td>\n",
       "      <td>1.7</td>\n",
       "      <td>2.2</td>\n",
       "      <td>1.0</td>\n",
       "      <td>0.5</td>\n",
       "      <td>0.3</td>\n",
       "      <td>1.0</td>\n",
       "      <td>0</td>\n",
       "    </tr>\n",
       "    <tr>\n",
       "      <th>3</th>\n",
       "      <td>58.0</td>\n",
       "      <td>11.6</td>\n",
       "      <td>5.7</td>\n",
       "      <td>2.3</td>\n",
       "      <td>5.5</td>\n",
       "      <td>42.6</td>\n",
       "      <td>0.1</td>\n",
       "      <td>0.5</td>\n",
       "      <td>22.6</td>\n",
       "      <td>0.9</td>\n",
       "      <td>1.3</td>\n",
       "      <td>68.9</td>\n",
       "      <td>1.0</td>\n",
       "      <td>0.9</td>\n",
       "      <td>1.9</td>\n",
       "      <td>0.8</td>\n",
       "      <td>0.6</td>\n",
       "      <td>0.1</td>\n",
       "      <td>1.0</td>\n",
       "      <td>1</td>\n",
       "    </tr>\n",
       "    <tr>\n",
       "      <th>4</th>\n",
       "      <td>48.0</td>\n",
       "      <td>11.5</td>\n",
       "      <td>4.5</td>\n",
       "      <td>1.6</td>\n",
       "      <td>3.0</td>\n",
       "      <td>52.4</td>\n",
       "      <td>0.0</td>\n",
       "      <td>0.1</td>\n",
       "      <td>0.0</td>\n",
       "      <td>1.3</td>\n",
       "      <td>1.9</td>\n",
       "      <td>67.4</td>\n",
       "      <td>1.0</td>\n",
       "      <td>1.5</td>\n",
       "      <td>2.5</td>\n",
       "      <td>0.3</td>\n",
       "      <td>0.3</td>\n",
       "      <td>0.4</td>\n",
       "      <td>0.8</td>\n",
       "      <td>1</td>\n",
       "    </tr>\n",
       "  </tbody>\n",
       "</table>\n",
       "</div>"
      ],
      "text/plain": [
       "   games played  minutes played  points per game  field goals made  \\\n",
       "0          36.0            27.4              7.4               2.6   \n",
       "1          35.0            26.9              NaN               2.0   \n",
       "2           NaN            15.3              5.2               2.0   \n",
       "3          58.0            11.6              5.7               2.3   \n",
       "4          48.0            11.5              4.5               1.6   \n",
       "\n",
       "   field goal attempts  field goal percent  3 point made  3 point attempt  \\\n",
       "0                  7.6                 NaN           0.5              2.1   \n",
       "1                  6.7                29.6           0.7              2.8   \n",
       "2                  4.7                42.2           0.4              1.7   \n",
       "3                  5.5                42.6           0.1              0.5   \n",
       "4                  3.0                52.4           0.0              0.1   \n",
       "\n",
       "   3 point %  free throw made  free throw attempts  free throw %  \\\n",
       "0       25.0              1.6                  2.3          69.9   \n",
       "1       23.5              2.6                  3.4          76.5   \n",
       "2       24.4              0.9                  1.3          67.0   \n",
       "3       22.6              0.9                  1.3          68.9   \n",
       "4        0.0              1.3                  1.9          67.4   \n",
       "\n",
       "   offensive rebounds  defensive rebounds  rebounds  assists  steals  blocks  \\\n",
       "0                 0.7                 3.4       4.1      1.9     0.4     0.4   \n",
       "1                 0.5                 2.0       2.4      3.7     1.1     0.5   \n",
       "2                 0.5                 1.7       2.2      1.0     0.5     0.3   \n",
       "3                 1.0                 0.9       1.9      0.8     0.6     0.1   \n",
       "4                 1.0                 1.5       2.5      0.3     0.3     0.4   \n",
       "\n",
       "   turnovers  target_5y  \n",
       "0        1.3          0  \n",
       "1        1.6          0  \n",
       "2        1.0          0  \n",
       "3        1.0          1  \n",
       "4        0.8          1  "
      ]
     },
     "execution_count": 2,
     "metadata": {},
     "output_type": "execute_result"
    }
   ],
   "source": [
    "data = pd.read_csv(\"https://wagon-public-datasets.s3.amazonaws.com/05-Machine-Learning/08-Workflow/tuning_pipeline_data.csv\")\n",
    "data.head()"
   ]
  },
  {
   "attachments": {},
   "cell_type": "markdown",
   "metadata": {},
   "source": [
    "- Each observation represents a player\n",
    "- Each column represents a characteristic of a player's performance\n",
    "\n",
    "The target defines whether the player lasted less than 5 years (`0`) vs. 5 years or more (`1`) as a professional."
   ]
  },
  {
   "cell_type": "code",
   "execution_count": 10,
   "metadata": {
    "execution": {
     "iopub.execute_input": "2025-08-06T16:39:35.337795Z",
     "iopub.status.busy": "2025-08-06T16:39:35.337027Z",
     "iopub.status.idle": "2025-08-06T16:39:35.348854Z",
     "shell.execute_reply": "2025-08-06T16:39:35.347569Z",
     "shell.execute_reply.started": "2025-08-06T16:39:35.337721Z"
    }
   },
   "outputs": [],
   "source": [
    "X = data.drop(columns=\"target_5y\")\n",
    "y = data['target_5y']"
   ]
  },
  {
   "cell_type": "markdown",
   "metadata": {},
   "source": [
    "## Pipeline"
   ]
  },
  {
   "cell_type": "markdown",
   "metadata": {},
   "source": [
    "👇 We are giving you the simple pipeline below"
   ]
  },
  {
   "cell_type": "code",
   "execution_count": 11,
   "metadata": {
    "execution": {
     "iopub.execute_input": "2025-08-06T16:39:36.906163Z",
     "iopub.status.busy": "2025-08-06T16:39:36.905641Z",
     "iopub.status.idle": "2025-08-06T16:39:36.927523Z",
     "shell.execute_reply": "2025-08-06T16:39:36.925265Z",
     "shell.execute_reply.started": "2025-08-06T16:39:36.906112Z"
    }
   },
   "outputs": [
    {
     "data": {
      "text/plain": [
       "Pipeline(steps=[('preprocessing',\n",
       "                 Pipeline(steps=[('imputer', SimpleImputer()),\n",
       "                                 ('scaling', MinMaxScaler())])),\n",
       "                ('model_svm', SVC())])"
      ]
     },
     "execution_count": 11,
     "metadata": {},
     "output_type": "execute_result"
    }
   ],
   "source": [
    "# Preprocessing pipe\n",
    "preprocessor = Pipeline([\n",
    "    ('imputer', SimpleImputer()),\n",
    "    ('scaling', MinMaxScaler())\n",
    "])\n",
    "\n",
    "# Final pipe\n",
    "pipe = Pipeline([\n",
    "    ('preprocessing', preprocessor),\n",
    "    ('model_svm', SVC())\n",
    "])\n",
    "\n",
    "pipe"
   ]
  },
  {
   "cell_type": "markdown",
   "metadata": {},
   "source": [
    "## Fine-Tuning"
   ]
  },
  {
   "attachments": {},
   "cell_type": "markdown",
   "metadata": {},
   "source": [
    "Our task is to assist in the recruitment process of promising young players.  \n",
    "The model should **limit false alarms as much as possible** to avoid recruiting players that will flop."
   ]
  },
  {
   "attachments": {},
   "cell_type": "markdown",
   "metadata": {},
   "source": [
    "❓ **Fine-tune this pipeline to maximize your objective**\n",
    "\n",
    "- Use the `scoring` metric appropriate for the task\n",
    "- Do a (randomized) search for the optimal\n",
    "    - imputing `strategy`\n",
    "    - `kernel`\n",
    "    - regularization factor `C`\n",
    "- Store your randomized search results in a `search` variable"
   ]
  },
  {
   "cell_type": "code",
   "execution_count": 12,
   "metadata": {
    "execution": {
     "iopub.execute_input": "2025-08-06T16:39:47.078761Z",
     "iopub.status.busy": "2025-08-06T16:39:47.078079Z",
     "iopub.status.idle": "2025-08-06T16:39:47.083970Z",
     "shell.execute_reply": "2025-08-06T16:39:47.082730Z",
     "shell.execute_reply.started": "2025-08-06T16:39:47.078704Z"
    }
   },
   "outputs": [],
   "source": [
    "#?SimpleImputer"
   ]
  },
  {
   "cell_type": "code",
   "execution_count": 21,
   "metadata": {
    "execution": {
     "iopub.execute_input": "2025-08-06T16:48:10.389549Z",
     "iopub.status.busy": "2025-08-06T16:48:10.388921Z",
     "iopub.status.idle": "2025-08-06T16:48:13.493390Z",
     "shell.execute_reply": "2025-08-06T16:48:13.492043Z",
     "shell.execute_reply.started": "2025-08-06T16:48:10.389483Z"
    }
   },
   "outputs": [
    {
     "data": {
      "text/plain": [
       "RandomizedSearchCV(cv=5,\n",
       "                   estimator=Pipeline(steps=[('preprocessing',\n",
       "                                              Pipeline(steps=[('imputer',\n",
       "                                                               SimpleImputer()),\n",
       "                                                              ('scaling',\n",
       "                                                               MinMaxScaler())])),\n",
       "                                             ('model_svm', SVC())]),\n",
       "                   n_jobs=-1,\n",
       "                   param_distributions={'model_svm__C': <scipy.stats._distn_infrastructure.rv_continuous_frozen object at 0x7fdc4d6fae10>,\n",
       "                                        'model_svm__kernel': ['linear', 'poly',\n",
       "                                                              'rbf',\n",
       "                                                              'sigmoid'],\n",
       "                                        'preprocessing__imputer__strategy': ['mean',\n",
       "                                                                             'median',\n",
       "                                                                             'most_frequent']},\n",
       "                   scoring='precision')"
      ]
     },
     "execution_count": 21,
     "metadata": {},
     "output_type": "execute_result"
    }
   ],
   "source": [
    "set_config(display='text')\n",
    "\n",
    "grid = {\n",
    "    'preprocessing__imputer__strategy': ['mean', 'median', 'most_frequent'],\n",
    "    'model_svm__kernel': ['linear', 'poly', 'rbf', 'sigmoid'],\n",
    "    'model_svm__C': uniform(0.1, 10)\n",
    "}\n",
    "\n",
    "search = RandomizedSearchCV(\n",
    "    pipe,\n",
    "    grid,\n",
    "    scoring='precision',\n",
    "    cv=5,\n",
    "    n_jobs=-1\n",
    ")\n",
    "\n",
    "search.fit(X, y)\n",
    "# YOUR CODE BELOW"
   ]
  },
  {
   "cell_type": "code",
   "execution_count": 22,
   "metadata": {
    "execution": {
     "iopub.execute_input": "2025-08-06T16:48:15.541314Z",
     "iopub.status.busy": "2025-08-06T16:48:15.540805Z",
     "iopub.status.idle": "2025-08-06T16:48:15.552979Z",
     "shell.execute_reply": "2025-08-06T16:48:15.551669Z",
     "shell.execute_reply.started": "2025-08-06T16:48:15.541265Z"
    }
   },
   "outputs": [
    {
     "name": "stdout",
     "output_type": "stream",
     "text": [
      "{'model_svm__C': 0.7994232833115676, 'model_svm__kernel': 'poly', 'preprocessing__imputer__strategy': 'median'} 0.7543605009487402\n"
     ]
    }
   ],
   "source": [
    "print(rand_search.best_params_, rand_search.best_score_)"
   ]
  },
  {
   "cell_type": "code",
   "execution_count": 23,
   "metadata": {
    "execution": {
     "iopub.execute_input": "2025-08-06T16:48:33.445779Z",
     "iopub.status.busy": "2025-08-06T16:48:33.445088Z",
     "iopub.status.idle": "2025-08-06T16:48:39.227387Z",
     "shell.execute_reply": "2025-08-06T16:48:39.225713Z",
     "shell.execute_reply.started": "2025-08-06T16:48:33.445714Z"
    }
   },
   "outputs": [
    {
     "name": "stdout",
     "output_type": "stream",
     "text": [
      "\n",
      "\u001b[1m============================= test session starts ==============================\u001b[0m\n",
      "platform linux -- Python 3.12.9, pytest-8.3.4, pluggy-1.5.0 -- /home/glaznos/.pyenv/versions/3.12.9/envs/lewagon/bin/python\n",
      "cachedir: .pytest_cache\n",
      "rootdir: /home/glaznos/code/roninrp/05-ML/08-Workflow/data-tuning-pipeline/tests\n",
      "plugins: anyio-4.8.0, typeguard-4.4.2, dash-3.1.1\n",
      "\u001b[1mcollecting ... \u001b[0mcollected 1 item\n",
      "\n",
      "test_solution.py::TestSolution::test_cv_results \u001b[32mPASSED\u001b[0m\u001b[32m                   [100%]\u001b[0m\n",
      "\n",
      "\u001b[32m============================== \u001b[32m\u001b[1m1 passed\u001b[0m\u001b[32m in 0.38s\u001b[0m\u001b[32m ===============================\u001b[0m\n",
      "\n",
      "\n",
      "💯 You can commit your code:\n",
      "\n",
      "\u001b[1;32mgit\u001b[39m add tests/solution.pickle\n",
      "\n",
      "\u001b[32mgit\u001b[39m commit -m \u001b[33m'Completed solution step'\u001b[39m\n",
      "\n",
      "\u001b[32mgit\u001b[39m push origin master\n",
      "\n"
     ]
    }
   ],
   "source": [
    "from nbresult import ChallengeResult\n",
    "\n",
    "result = ChallengeResult(\n",
    "    'solution',\n",
    "    scoring = search.scoring,\n",
    "    cv = search.cv,\n",
    "    mean_test_score = search.cv_results_['mean_test_score']\n",
    ")\n",
    "\n",
    "result.write()\n",
    "print(result.check())"
   ]
  },
  {
   "cell_type": "code",
   "execution_count": 24,
   "metadata": {
    "execution": {
     "iopub.execute_input": "2025-08-06T16:48:53.958972Z",
     "iopub.status.busy": "2025-08-06T16:48:53.958378Z",
     "iopub.status.idle": "2025-08-06T16:48:56.264198Z",
     "shell.execute_reply": "2025-08-06T16:48:56.262592Z",
     "shell.execute_reply.started": "2025-08-06T16:48:53.958927Z"
    }
   },
   "outputs": [
    {
     "name": "stdout",
     "output_type": "stream",
     "text": [
      "[master f962982] Completed solution step\n",
      " 1 file changed, 0 insertions(+), 0 deletions(-)\n",
      " create mode 100644 tests/solution.pickle\n",
      "Enumerating objects: 13, done.\n",
      "Counting objects: 100% (13/13), done.\n",
      "Delta compression using up to 4 threads\n",
      "Compressing objects: 100% (12/12), done.\n",
      "Writing objects: 100% (13/13), 3.17 KiB | 1.58 MiB/s, done.\n",
      "Total 13 (delta 1), reused 0 (delta 0)\n",
      "remote: Resolving deltas: 100% (1/1), done.\u001b[K\n",
      "To github.com:roninrp/data-tuning-pipeline.git\n",
      " * [new branch]      master -> master\n"
     ]
    }
   ],
   "source": [
    "!git add tests/solution.pickle\n",
    "\n",
    "!git commit -m 'Completed solution step'\n",
    "\n",
    "!git push origin master"
   ]
  },
  {
   "cell_type": "markdown",
   "metadata": {},
   "source": [
    "## Export"
   ]
  },
  {
   "cell_type": "code",
   "execution_count": 25,
   "metadata": {
    "execution": {
     "iopub.execute_input": "2025-08-06T16:49:50.468881Z",
     "iopub.status.busy": "2025-08-06T16:49:50.468284Z",
     "iopub.status.idle": "2025-08-06T16:49:50.494844Z",
     "shell.execute_reply": "2025-08-06T16:49:50.493604Z",
     "shell.execute_reply.started": "2025-08-06T16:49:50.468819Z"
    }
   },
   "outputs": [
    {
     "data": {
      "text/plain": [
       "Pipeline(steps=[('preprocessing',\n",
       "                 Pipeline(steps=[('imputer',\n",
       "                                  SimpleImputer(strategy='most_frequent')),\n",
       "                                 ('scaling', MinMaxScaler())])),\n",
       "                ('model_svm', SVC(C=1.6470375083658972, kernel='linear'))])"
      ]
     },
     "execution_count": 25,
     "metadata": {},
     "output_type": "execute_result"
    }
   ],
   "source": [
    "pipe_best = search.best_estimator_\n",
    "pipe_best"
   ]
  },
  {
   "cell_type": "markdown",
   "metadata": {},
   "source": [
    "Once you have built your optimal pipeline, export it as a pickle file"
   ]
  },
  {
   "cell_type": "code",
   "execution_count": null,
   "metadata": {
    "tags": [
     "challengify"
    ]
   },
   "outputs": [],
   "source": [
    "# YOUR CODE HERE\n",
    "import pickle\n",
    "\n",
    "# Export pipeline as pickle file\n",
    "with open(\"pipeline.pkl\", \"wb\") as file:\n",
    "    pickle.dump(pipe_tuned, file)"
   ]
  },
  {
   "cell_type": "markdown",
   "metadata": {},
   "source": [
    "🏁 Congratulation. Don't forget to add, commit and push your notebook."
   ]
  }
 ],
 "metadata": {
  "kernelspec": {
   "display_name": "Python 3 (ipykernel)",
   "language": "python",
   "name": "python3"
  },
  "language_info": {
   "codemirror_mode": {
    "name": "ipython",
    "version": 3
   },
   "file_extension": ".py",
   "mimetype": "text/x-python",
   "name": "python",
   "nbconvert_exporter": "python",
   "pygments_lexer": "ipython3",
   "version": "3.12.9"
  }
 },
 "nbformat": 4,
 "nbformat_minor": 4
}
